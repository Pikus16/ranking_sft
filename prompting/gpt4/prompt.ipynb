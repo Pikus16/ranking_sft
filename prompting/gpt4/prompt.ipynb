{
 "cells": [
  {
   "cell_type": "code",
   "execution_count": 4,
   "metadata": {},
   "outputs": [],
   "source": [
    "%load_ext autoreload\n",
    "%autoreload 2"
   ]
  },
  {
   "cell_type": "code",
   "execution_count": 78,
   "metadata": {},
   "outputs": [],
   "source": [
    "import openai\n",
    "from openai_utils import *\n",
    "import pandas as pd\n",
    "import sys\n",
    "sys.path.append('../../sft')\n",
    "sys.path.append('../../')\n",
    "from utils import get_perc_first_correct, calc_ncdg\n",
    "from train_utils import remove_ranking, process_ranking, get_labels\n",
    "from tqdm import tqdm\n",
    "import numpy as np"
   ]
  },
  {
   "cell_type": "code",
   "execution_count": 8,
   "metadata": {},
   "outputs": [],
   "source": [
    "client = get_client()"
   ]
  },
  {
   "cell_type": "markdown",
   "metadata": {},
   "source": [
    "GPT-4, Original Prompt"
   ]
  },
  {
   "cell_type": "code",
   "execution_count": 29,
   "metadata": {},
   "outputs": [
    {
     "name": "stderr",
     "output_type": "stream",
     "text": [
      "  0%|          | 0/525 [00:00<?, ?it/s]"
     ]
    },
    {
     "name": "stderr",
     "output_type": "stream",
     "text": [
      "100%|██████████| 525/525 [09:41<00:00,  1.11s/it]\n"
     ]
    }
   ],
   "source": [
    "df = pd.read_csv('../../data/split/test.csv')\n",
    "results = []\n",
    "for i, row in tqdm(df.iterrows(), total=len(df)):\n",
    "    # TODO: add error handling / timeout\n",
    "    prompt, _ = remove_ranking(row.text)#(row.text.split('## Ranking: ')[0] + \"## Ranking: \")\n",
    "    results.append(\n",
    "       get_openai_response(prompt, client) \n",
    "    )"
   ]
  },
  {
   "cell_type": "code",
   "execution_count": 39,
   "metadata": {},
   "outputs": [
    {
     "data": {
      "text/plain": [
       "[3, 5, 1, 4, 2]"
      ]
     },
     "execution_count": 39,
     "metadata": {},
     "output_type": "execute_result"
    }
   ],
   "source": [
    "process_ranking(remove_ranking(row.text)[1])"
   ]
  },
  {
   "cell_type": "code",
   "execution_count": 60,
   "metadata": {},
   "outputs": [],
   "source": [
    "# Process\n",
    "rankings = []\n",
    "for r in results:\n",
    "    res = process_ranking(r)\n",
    "    assert len(res) <= 5 and len(res) >= 3\n",
    "    if len(res) < 5:\n",
    "        missing = list(set(np.arange(1,6)) - set(res))\n",
    "        res += missing\n",
    "    assert len(res) == 5\n",
    "    rankings.append(res)\n",
    "df['rankings'] = rankings"
   ]
  },
  {
   "cell_type": "code",
   "execution_count": 43,
   "metadata": {},
   "outputs": [
    {
     "data": {
      "text/html": [
       "<div>\n",
       "<style scoped>\n",
       "    .dataframe tbody tr th:only-of-type {\n",
       "        vertical-align: middle;\n",
       "    }\n",
       "\n",
       "    .dataframe tbody tr th {\n",
       "        vertical-align: top;\n",
       "    }\n",
       "\n",
       "    .dataframe thead th {\n",
       "        text-align: right;\n",
       "    }\n",
       "</style>\n",
       "<table border=\"1\" class=\"dataframe\">\n",
       "  <thead>\n",
       "    <tr style=\"text-align: right;\">\n",
       "      <th></th>\n",
       "      <th>text</th>\n",
       "      <th>rankings</th>\n",
       "      <th>y_true</th>\n",
       "    </tr>\n",
       "  </thead>\n",
       "  <tbody>\n",
       "    <tr>\n",
       "      <th>0</th>\n",
       "      <td>Given a query and five passages, rank the pass...</td>\n",
       "      <td>[4, 1, 2, 3, 5]</td>\n",
       "      <td>[2, 5, 3, 1, 4]</td>\n",
       "    </tr>\n",
       "    <tr>\n",
       "      <th>1</th>\n",
       "      <td>Given a query and five passages, rank the pass...</td>\n",
       "      <td>[4, 2, 1, 3, 5]</td>\n",
       "      <td>[4, 2, 3, 1, 5]</td>\n",
       "    </tr>\n",
       "    <tr>\n",
       "      <th>2</th>\n",
       "      <td>Given a query and five passages, rank the pass...</td>\n",
       "      <td>[2, 1, 3, 4, 5]</td>\n",
       "      <td>[2, 1, 4, 5, 3]</td>\n",
       "    </tr>\n",
       "    <tr>\n",
       "      <th>3</th>\n",
       "      <td>Given a query and five passages, rank the pass...</td>\n",
       "      <td>[1, 4, 5, 2, 3]</td>\n",
       "      <td>[1, 2, 3, 4, 5]</td>\n",
       "    </tr>\n",
       "    <tr>\n",
       "      <th>4</th>\n",
       "      <td>Given a query and five passages, rank the pass...</td>\n",
       "      <td>[2, 1, 4, 5, 3]</td>\n",
       "      <td>[1, 3, 4, 2, 5]</td>\n",
       "    </tr>\n",
       "    <tr>\n",
       "      <th>...</th>\n",
       "      <td>...</td>\n",
       "      <td>...</td>\n",
       "      <td>...</td>\n",
       "    </tr>\n",
       "    <tr>\n",
       "      <th>520</th>\n",
       "      <td>Given a query and five passages, rank the pass...</td>\n",
       "      <td>[3, 5, 4, 1, 2]</td>\n",
       "      <td>[3, 5, 1, 2, 4]</td>\n",
       "    </tr>\n",
       "    <tr>\n",
       "      <th>521</th>\n",
       "      <td>Given a query and five passages, rank the pass...</td>\n",
       "      <td>[5, 1, 3, 2, 4]</td>\n",
       "      <td>[1, 4, 5, 2, 3]</td>\n",
       "    </tr>\n",
       "    <tr>\n",
       "      <th>522</th>\n",
       "      <td>Given a query and five passages, rank the pass...</td>\n",
       "      <td>[2, 5, 1, 4, 3]</td>\n",
       "      <td>[3, 2, 4, 5, 1]</td>\n",
       "    </tr>\n",
       "    <tr>\n",
       "      <th>523</th>\n",
       "      <td>Given a query and five passages, rank the pass...</td>\n",
       "      <td>[1, 2, 3, 5, 4]</td>\n",
       "      <td>[3, 2, 1, 5, 4]</td>\n",
       "    </tr>\n",
       "    <tr>\n",
       "      <th>524</th>\n",
       "      <td>Given a query and five passages, rank the pass...</td>\n",
       "      <td>[5, 3, 1, 2, 4]</td>\n",
       "      <td>[3, 5, 1, 4, 2]</td>\n",
       "    </tr>\n",
       "  </tbody>\n",
       "</table>\n",
       "<p>525 rows × 3 columns</p>\n",
       "</div>"
      ],
      "text/plain": [
       "                                                  text         rankings  \\\n",
       "0    Given a query and five passages, rank the pass...  [4, 1, 2, 3, 5]   \n",
       "1    Given a query and five passages, rank the pass...  [4, 2, 1, 3, 5]   \n",
       "2    Given a query and five passages, rank the pass...  [2, 1, 3, 4, 5]   \n",
       "3    Given a query and five passages, rank the pass...  [1, 4, 5, 2, 3]   \n",
       "4    Given a query and five passages, rank the pass...  [2, 1, 4, 5, 3]   \n",
       "..                                                 ...              ...   \n",
       "520  Given a query and five passages, rank the pass...  [3, 5, 4, 1, 2]   \n",
       "521  Given a query and five passages, rank the pass...  [5, 1, 3, 2, 4]   \n",
       "522  Given a query and five passages, rank the pass...  [2, 5, 1, 4, 3]   \n",
       "523  Given a query and five passages, rank the pass...  [1, 2, 3, 5, 4]   \n",
       "524  Given a query and five passages, rank the pass...  [5, 3, 1, 2, 4]   \n",
       "\n",
       "              y_true  \n",
       "0    [2, 5, 3, 1, 4]  \n",
       "1    [4, 2, 3, 1, 5]  \n",
       "2    [2, 1, 4, 5, 3]  \n",
       "3    [1, 2, 3, 4, 5]  \n",
       "4    [1, 3, 4, 2, 5]  \n",
       "..               ...  \n",
       "520  [3, 5, 1, 2, 4]  \n",
       "521  [1, 4, 5, 2, 3]  \n",
       "522  [3, 2, 4, 5, 1]  \n",
       "523  [3, 2, 1, 5, 4]  \n",
       "524  [3, 5, 1, 4, 2]  \n",
       "\n",
       "[525 rows x 3 columns]"
      ]
     },
     "execution_count": 43,
     "metadata": {},
     "output_type": "execute_result"
    }
   ],
   "source": [
    "df['y_true'] = get_labels(df)\n",
    "df"
   ]
  },
  {
   "cell_type": "code",
   "execution_count": 61,
   "metadata": {},
   "outputs": [
    {
     "data": {
      "text/plain": [
       "0.2742857142857143"
      ]
     },
     "execution_count": 61,
     "metadata": {},
     "output_type": "execute_result"
    }
   ],
   "source": [
    "get_perc_first_correct(df['y_true'].to_list(), rankings)"
   ]
  },
  {
   "cell_type": "code",
   "execution_count": 79,
   "metadata": {},
   "outputs": [
    {
     "data": {
      "text/plain": [
       "0.7749093764049221"
      ]
     },
     "execution_count": 79,
     "metadata": {},
     "output_type": "execute_result"
    }
   ],
   "source": [
    "calc_ncdg(df['y_true'].to_list(), rankings)"
   ]
  },
  {
   "cell_type": "code",
   "execution_count": null,
   "metadata": {},
   "outputs": [],
   "source": []
  }
 ],
 "metadata": {
  "kernelspec": {
   "display_name": "sft",
   "language": "python",
   "name": "python3"
  },
  "language_info": {
   "codemirror_mode": {
    "name": "ipython",
    "version": 3
   },
   "file_extension": ".py",
   "mimetype": "text/x-python",
   "name": "python",
   "nbconvert_exporter": "python",
   "pygments_lexer": "ipython3",
   "version": "3.9.18"
  }
 },
 "nbformat": 4,
 "nbformat_minor": 2
}
